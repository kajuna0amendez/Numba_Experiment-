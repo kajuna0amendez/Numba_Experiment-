{
 "cells": [
  {
   "cell_type": "code",
   "execution_count": 287,
   "metadata": {},
   "outputs": [],
   "source": [
    "import pandas as pd \n",
    "from scipy.stats import chi2\n",
    "import numpy as np\n",
    "from numba import jit, prange\n",
    "%matplotlib inline\n",
    "\n",
    "def Normalization(Data):\n",
    "    \"\"\"\n",
    "    Normalize the data \n",
    "    \"\"\"\n",
    "    Mean1 = np.mean(Data, axis = 0)\n",
    "    Std1  = np.std(Data, axis = 0)\n",
    "    return (Data-Mean1)/Std1\n",
    "\n",
    "def ReturnDataFrame(path):\n",
    "    \"\"\"\n",
    "    Read df into memory\n",
    "    \"\"\"\n",
    "    return pd.read_csv(path, sep=',',skipinitialspace=True)  \n",
    "\n",
    "def MahalonobisDetection(Data, alpha):\n",
    "    \"\"\"\n",
    "    Old Version\n",
    "    \"\"\"\n",
    "    Data = Data - np.mean(Data, axis = 0)\n",
    "    n1,n2 = Data.shape\n",
    "    Cov = (1/float(n1-1))*np.dot(Data.T,Data)\n",
    "    M = np.zeros(n1)\n",
    "    # Using extra memory\n",
    "    RightP = np.dot(np.linalg.inv(Cov),Data.T)\n",
    "    for i in range(0,n1):\n",
    "        M[i] = np.dot(Data[i,:],RightP[:,i])\n",
    "    # Numb\n",
    "    c = chi2.isf(alpha,n2)\n",
    "    return M, c, Cov\n",
    "\n",
    "@jit(parallel=True, nogil=True, cache=True)\n",
    "def NumbaMahalonobisDetection(Data, alpha):\n",
    "    \"\"\"\n",
    "    The numba version\n",
    "    \"\"\"\n",
    "    # Get shape of data\n",
    "    n1,n2 = Data.shape\n",
    "    # substract the mean\n",
    "    Data = Data - Data.mean(axis = 0)\n",
    "    # Get the Covariance\n",
    "    Cov = (1/float(n1-1))*np.dot(Data.T,Data)\n",
    "    M = np.zeros(n1)\n",
    "    # Using extra memory\n",
    "    RightP = np.dot(np.linalg.inv(Cov),Data.T)\n",
    "    # Here we use a paralel version \n",
    "    for i in prange(0,n1):\n",
    "        M[i] = np.dot(Data[i,:],RightP[:,i])\n",
    "    # chage this to gaussian distributions use a trick\n",
    "    c = chi_statistics(alpha, n2)\n",
    "    \n",
    "    return M, c, Cov  \n",
    "\n",
    "@jit(nopython=True, parallel=True, nogil=True, cache=True)\n",
    "def chi_statistics(alpha, k):\n",
    "    \"\"\"\n",
    "    Getting the value for X^2_{alpha,k}\n",
    "    \"\"\"\n",
    "    # Wilson and Hilferty approximation\n",
    "    return k*np.power(z(alpha)*np.sqrt(2.0/(9.0*k))+(1.0-(2.0/(9.0*k))),2)\n",
    "    \n",
    "@jit(nopython=True, parallel=True, nogil=True, cache=True)\n",
    "def z(alpha):\n",
    "    \"\"\"\n",
    "    Z score with level of confidence alpha z = x\n",
    "    Using Shore approximation 1982 \n",
    "    \"\"\"\n",
    "    # Get the CDF value\n",
    "    p = 1.0-alpha\n",
    "    \n",
    "    z = 5.5556*(1.0-np.power(((1.0-p)/p),0.1986))\n",
    "    \n",
    "    return z"
   ]
  },
  {
   "cell_type": "code",
   "execution_count": 288,
   "metadata": {},
   "outputs": [],
   "source": [
    "# Load CVS\n",
    "Path1 = 'voice.csv'\n",
    "DataMatrix = ReturnDataFrame(Path1)\n",
    "\n",
    "# Shuffle the data randomly\n",
    "DataMatrix = DataMatrix.sample(frac=1).reset_index(drop=True)\n",
    "DataMatrix.replace({'male': 1.0, 'female': -1.0},\n",
    "                  inplace=True)\n",
    "DataLabels = DataMatrix['label']\n",
    "DataMatrix.drop('label', axis=1, inplace=True)\n",
    "# Transform to an NP Array\n",
    "Data = DataMatrix.values\n",
    "Label = DataLabels.values\n",
    "\n",
    "fmask = (Label == 1.0)\n",
    "mmask = (Label == -1.0)\n",
    "\n",
    "# Normalize your Data # \n",
    "NData = np.asmatrix(Normalization(Data))\n",
    "\n",
    "Class1 = NData[fmask,:]\n",
    "Class2 = NData[mmask,:]\n",
    "\n",
    "alpha = 0.10"
   ]
  },
  {
   "cell_type": "code",
   "execution_count": 289,
   "metadata": {},
   "outputs": [
    {
     "name": "stdout",
     "output_type": "stream",
     "text": [
      "18.8 ms ± 480 µs per loop (mean ± std. dev. of 7 runs, 100 loops each)\n"
     ]
    }
   ],
   "source": [
    "%%timeit\n",
    "# Testing the functions\n",
    "_, c1, _ = MahalonobisDetection(Class1, alpha)"
   ]
  },
  {
   "cell_type": "code",
   "execution_count": 290,
   "metadata": {},
   "outputs": [
    {
     "name": "stdout",
     "output_type": "stream",
     "text": [
      "398 µs ± 172 µs per loop (mean ± std. dev. of 7 runs, 1 loop each)\n"
     ]
    }
   ],
   "source": [
    "%%timeit\n",
    "# Testing the functions\n",
    "_, c2, _ = NumbaMahalonobisDetection(Class1, alpha)"
   ]
  },
  {
   "cell_type": "code",
   "execution_count": 284,
   "metadata": {},
   "outputs": [
    {
     "name": "stdout",
     "output_type": "stream",
     "text": [
      "28.411980584305635\n",
      "28.60704247808361\n"
     ]
    }
   ],
   "source": [
    "print(c1)\n",
    "print(c2)"
   ]
  },
  {
   "cell_type": "code",
   "execution_count": null,
   "metadata": {},
   "outputs": [],
   "source": []
  }
 ],
 "metadata": {
  "kernelspec": {
   "display_name": "Python 3",
   "language": "python",
   "name": "python3"
  },
  "language_info": {
   "codemirror_mode": {
    "name": "ipython",
    "version": 3
   },
   "file_extension": ".py",
   "mimetype": "text/x-python",
   "name": "python",
   "nbconvert_exporter": "python",
   "pygments_lexer": "ipython3",
   "version": "3.5.2"
  }
 },
 "nbformat": 4,
 "nbformat_minor": 2
}
